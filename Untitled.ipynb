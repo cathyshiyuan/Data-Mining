{
 "cells": [
  {
   "cell_type": "code",
   "execution_count": 61,
   "metadata": {
    "collapsed": true
   },
   "outputs": [],
   "source": [
    "import pandas as pd\n",
    "import numpy as np\n",
    "import collections "
   ]
  },
  {
   "cell_type": "code",
   "execution_count": 509,
   "metadata": {
    "collapsed": true
   },
   "outputs": [],
   "source": [
    "data = pd.read_csv('whole_datasets.csv', sep = '\\t', header = None)\n",
    "scn_id = pd.read_csv('scn_id_comma.csv')\n",
    "data = data.fillna(1)\n",
    "tags = data[0].values.tolist()\n",
    "times = data[1].values.tolist()"
   ]
  },
  {
   "cell_type": "code",
   "execution_count": 613,
   "metadata": {
    "collapsed": false
   },
   "outputs": [],
   "source": [
    "data = data.drop(data.index[1040:1130],0)\n",
    "data.reset_index(drop = True, inplace = True)"
   ]
  },
  {
   "cell_type": "code",
   "execution_count": 614,
   "metadata": {
    "collapsed": false
   },
   "outputs": [
    {
     "data": {
      "text/html": [
       "<div>\n",
       "<table border=\"1\" class=\"dataframe\">\n",
       "  <thead>\n",
       "    <tr style=\"text-align: right;\">\n",
       "      <th></th>\n",
       "      <th>0</th>\n",
       "      <th>1</th>\n",
       "    </tr>\n",
       "  </thead>\n",
       "  <tbody>\n",
       "    <tr>\n",
       "      <th>1040</th>\n",
       "      <td>体育休闲服务;娱乐场所;娱乐场所|体育休闲服务;运动场馆;网球场</td>\n",
       "      <td>1.0</td>\n",
       "    </tr>\n",
       "    <tr>\n",
       "      <th>1041</th>\n",
       "      <td>体育休闲服务;娱乐场所;娱乐场所|政府机构及社会团体;政府机关;乡镇以下级政府及事业单位</td>\n",
       "      <td>1.0</td>\n",
       "    </tr>\n",
       "    <tr>\n",
       "      <th>1042</th>\n",
       "      <td>体育休闲服务;娱乐场所;娱乐场所|生活服务;摄影冲印店;摄影冲印</td>\n",
       "      <td>1.0</td>\n",
       "    </tr>\n",
       "    <tr>\n",
       "      <th>1043</th>\n",
       "      <td>体育休闲服务;娱乐场所;娱乐场所|科教文化服务;科教文化场所;科教文化场所</td>\n",
       "      <td>5.0</td>\n",
       "    </tr>\n",
       "    <tr>\n",
       "      <th>1044</th>\n",
       "      <td>体育休闲服务;娱乐场所;娱乐场所|购物服务;专卖店;自行车专卖店</td>\n",
       "      <td>2.0</td>\n",
       "    </tr>\n",
       "    <tr>\n",
       "      <th>1045</th>\n",
       "      <td>体育休闲服务;娱乐场所;棋牌室</td>\n",
       "      <td>33362.0</td>\n",
       "    </tr>\n",
       "  </tbody>\n",
       "</table>\n",
       "</div>"
      ],
      "text/plain": [
       "                                                 0        1\n",
       "1040              体育休闲服务;娱乐场所;娱乐场所|体育休闲服务;运动场馆;网球场      1.0\n",
       "1041  体育休闲服务;娱乐场所;娱乐场所|政府机构及社会团体;政府机关;乡镇以下级政府及事业单位      1.0\n",
       "1042              体育休闲服务;娱乐场所;娱乐场所|生活服务;摄影冲印店;摄影冲印      1.0\n",
       "1043         体育休闲服务;娱乐场所;娱乐场所|科教文化服务;科教文化场所;科教文化场所      5.0\n",
       "1044              体育休闲服务;娱乐场所;娱乐场所|购物服务;专卖店;自行车专卖店      2.0\n",
       "1045                               体育休闲服务;娱乐场所;棋牌室  33362.0"
      ]
     },
     "execution_count": 614,
     "metadata": {},
     "output_type": "execute_result"
    }
   ],
   "source": [
    "data.ix[1040:1045]"
   ]
  },
  {
   "cell_type": "code",
   "execution_count": 225,
   "metadata": {
    "collapsed": false
   },
   "outputs": [
    {
     "data": {
      "text/plain": [
       "1.0"
      ]
     },
     "execution_count": 225,
     "metadata": {},
     "output_type": "execute_result"
    }
   ],
   "source": [
    "dic.pop('Hadoop job information for Stage-1: number of mappers: 66; number of reducers: 12')"
   ]
  },
  {
   "cell_type": "code",
   "execution_count": 615,
   "metadata": {
    "collapsed": false
   },
   "outputs": [],
   "source": [
    "dic = {}\n",
    "for i, row in enumerate(data[0]):\n",
    "    try:\n",
    "        row_content = row.split('|')\n",
    "        for j in row_content:\n",
    "            dic[j] = 0\n",
    "    except Exception as e:\n",
    "            print i, row\n",
    "for i, row in enumerate(data[0]):\n",
    "    try:\n",
    "        row_content = row.split('|')\n",
    "    except Exception as e:\n",
    "            print i, row \n",
    "    for j in row_content:\n",
    "        dic[j] =  dic[j] + data[1][i]\n",
    "        "
   ]
  },
  {
   "cell_type": "code",
   "execution_count": 673,
   "metadata": {
    "collapsed": false
   },
   "outputs": [
    {
     "data": {
      "text/plain": [
       "63416899.0"
      ]
     },
     "execution_count": 673,
     "metadata": {},
     "output_type": "execute_result"
    }
   ],
   "source": [
    "sum(dic.values())"
   ]
  },
  {
   "cell_type": "code",
   "execution_count": 618,
   "metadata": {
    "collapsed": false
   },
   "outputs": [],
   "source": [
    "for key, item in dic.items():\n",
    "    if ';' not in key:\n",
    "        dic.pop(key)\n"
   ]
  },
  {
   "cell_type": "code",
   "execution_count": 698,
   "metadata": {
    "collapsed": true
   },
   "outputs": [],
   "source": [
    "def get_level_tags(tags):\n",
    "    tag2 = []\n",
    "    tag3 = []\n",
    "    tag1 = []\n",
    "    count = 0\n",
    "    for i in tags:\n",
    "        tag = i.split(';')\n",
    "        try:\n",
    "            tag1.append(tag[0])\n",
    "            tag2.append(tag[1])\n",
    "            tag3.append(tag[2])\n",
    "            count += 1\n",
    "        except Exception as e:\n",
    "            print i\n",
    "        if count % 100 == 0:\n",
    "            print count\n",
    "    return tag1, tag2, tag3\n",
    "\n",
    "def get_number(tag1,tag2, tag3): # input a pair (level2,level3)\n",
    "    outlier_dic = {'7-ELEVEn便利店':'2.11.3.3.','东风雪铁龙维修1':'2.21.21.2.','梅赛德斯-奔驰维修1':'2.21.22.2.',\n",
    "                  '雪佛兰销售1':'2.14.32.3.','进口起亚销售2':'2.14.4.3.','吉利销售1':'2.14.16.1.','汽车服务相关1':'2.20.7.1.',\n",
    "                  '地市级政府及事业单位1':'2.7.3.9.','汽车维修1':'2.21.45.1.','东风悦达起亚维修2':'2.21.32.1.',\n",
    "                   '东风悦达起亚销售1':'2.14.4.1.','北京汽车维修1':'2.21.37.1.','梅赛德斯-奔驰维修2':'2.21.22.2.',\n",
    "                   '东风雪铁龙销售1':'2.14.28.3.','荣威销售1':'2.14.37.1.','起亚销售1':'2.14.4.2.',\n",
    "                  '区县级政府及事业单位1':'2.7.3.5.','乡镇级政府及事业单位1':'2.7.3.6.','雪佛兰维修1':'2.21.35.5.'}\n",
    "    # geting the scn_id \n",
    "    level2tags = scn_id[scn_id['scn_id.2'].notnull()][['scn_id.2','scn_name_zh']]\n",
    "    level3tags = scn_id[scn_id['scn_id.3'].notnull()][['scn_id.3','scn_name_zh']]\n",
    "    level1tags = scn_id[scn_id['scn_id.1'].notnull()][['scn_id.1','scn_name_zh']]\n",
    "   \n",
    "    row = level3tags[level3tags['scn_name_zh'] == tag3]\n",
    "    if len(row) == 1:\n",
    "        number = row['scn_id.3'].values.tolist()[0]\n",
    "       \n",
    "    if len(row) == 2:\n",
    "        level2row = level2tags[level2tags['scn_name_zh'] == tag2] \n",
    "        level2num = level2row['scn_id.2'].values.tolist()[0]\n",
    "        level2num1 = level2num.split('.')[2]\n",
    "        \n",
    "        for n in row['scn_id.3'].values.tolist():\n",
    "            \n",
    "            if level2num1 in n:\n",
    "                number = n \n",
    "                print tag2, level2num, tag3 ,number\n",
    "    \n",
    "    if len(row) == 3:\n",
    "        level1row = level1tags[level1tags['scn_name_zh'] == tag1] \n",
    "        level1num = level1row['scn_id.1'].values.tolist()[0]\n",
    "        level1num1 = level1num.split('.')[1]\n",
    "        #number = 'NULL'\n",
    "        for n in row['scn_id.3'].values.tolist():          \n",
    "            if level1num1 in n:\n",
    "                number = n \n",
    "    for key in outlier_dic.keys():\n",
    "        if tag3 == key:\n",
    "            number = outlier_dic[key]\n",
    "        \n",
    "            \n",
    "    try:    \n",
    "        tag_id = tag3 + ' ' + number\n",
    "        \n",
    "    except Exception as e:\n",
    "        print row, \n",
    "        print 'tag3',tag3\n",
    "        print 'tag2', tag2\n",
    "        tag_id = 'NULL' \n",
    "        \n",
    "    return tag_id\n",
    "\n",
    "def tag_id_list(tag1, tag2, tag3):\n",
    "    tag_id_list = []\n",
    "    count = 0\n",
    "    for tag_pair in zip(tag1, tag2, tag3):\n",
    "        tag_id = get_number(tag_pair[0], tag_pair[1], tag_pair[2])\n",
    "        \n",
    "        tag_id_list.append(tag_id)\n",
    "        count += 1\n",
    "        if count%100 == 0:\n",
    "            print count\n",
    "    return tag_id_list\n",
    "\n",
    "def freq(tags):\n",
    "    count = collections.Counter(tags)\n",
    "    frequency_dic = {}\n",
    "    for key,value in count.items():\n",
    "        frequency_dic[key] = (value, 100.0*value/len(tags))\n",
    "        #print key, value\n",
    "    return frequency_dic\n",
    "\n",
    "def new_df(dic):\n",
    "    freq_df = pd.DataFrame(columns = ['tags','time_appears','frequency']) \n",
    "    time = []\n",
    "    freq = []\n",
    "    unique_tag = []\n",
    "    for key, value in dic.items():\n",
    "        time.append(value[0])\n",
    "        freq.append(value[1])\n",
    "        unique_tag.append(key)\n",
    "        #print key, 'Times appears: %d, frequency: %.2f'%(value[0],value[1]) + '%'\n",
    "    freq_df.time_appears = time\n",
    "    freq_df.tags = unique_tag\n",
    "    freq_df.frequency = freq\n",
    "    freq_df.sort('time_appears', ascending =False,inplace = True)\n",
    "    freq_df.reset_index(inplace = True, drop = True)\n",
    "    return freq_df\n",
    "\n",
    "def dic2df(dic, file_name = None):         # transform the dictionary from freq() into a dataframe\n",
    "    freq_df = pd.DataFrame(columns = ['tags','time_appears','frequency']) \n",
    "    time = []\n",
    "    freq = []\n",
    "    unique_tag = []\n",
    "    for key, value in dic.items():\n",
    "        time.append(value[0])\n",
    "        freq.append(value[1])\n",
    "        unique_tag.append(key)\n",
    "        #print key, 'Times appears: %d, frequency: %.2f'%(value[0],value[1]) + '%'\n",
    "    freq_df.time_appears = time\n",
    "    freq_df.tags = unique_tag\n",
    "    freq_df.frequency = freq\n",
    "    freq_df.sort('time_appears', ascending =False,inplace = True)\n",
    "    freq_df.reset_index(inplace = True, drop = True)\n",
    "\n",
    "    #freq_df.to_csv(file_name)\n",
    "    print 'file saved!'\n",
    "    return freq_df"
   ]
  },
  {
   "cell_type": "code",
   "execution_count": 690,
   "metadata": {
    "collapsed": true
   },
   "outputs": [],
   "source": [
    "tags = dic.keys()"
   ]
  },
  {
   "cell_type": "code",
   "execution_count": 694,
   "metadata": {
    "collapsed": false
   },
   "outputs": [
    {
     "name": "stdout",
     "output_type": "stream",
     "text": [
      "100\n",
      "200\n",
      "300\n",
      "400\n",
      "500\n",
      "600\n",
      "700\n",
      "800\n"
     ]
    }
   ],
   "source": [
    "tag1all, tag2all, tag3all = get_level_tags(tags)"
   ]
  },
  {
   "cell_type": "code",
   "execution_count": 699,
   "metadata": {
    "collapsed": false
   },
   "outputs": [
    {
     "name": "stdout",
     "output_type": "stream",
     "text": [
      "普通地名 2.9.6. 区县级地名 2.9.6.6.\n",
      "普通地名 2.9.6. 地市级地名 2.9.6.7.\n",
      "事务所 2.12.12. 事务所 2.12.3.2.\n",
      "事务所 2.12.12. 事务所 2.12.12.3.\n",
      " 事务所  2.12.3. 会计师事务所 2.12.3.1.\n",
      "100\n",
      "普通地名 2.9.6. 省级地名 2.9.6.4.\n",
      " 门牌信息 2.9.5. 道路门牌 2.9.5.2.\n",
      "普通地名 2.9.6. 街道级地名 2.9.6.9.\n",
      "行政地名 2.9.3. 村庄级地名 2.9.3.6.\n",
      "200\n",
      " 事务所  2.12.3. 事务所 2.12.3.2.\n",
      " 事务所  2.12.3. 事务所 2.12.12.3.\n",
      "行政地名 2.9.3. 乡镇级地名 2.9.3.1.\n",
      "行政地名 2.9.3. 乡镇级地名 2.9.6.3.\n",
      "行政地名 2.9.3. 地市级地名 2.9.3.5.\n",
      "普通地名 2.9.6. 乡镇级地名 2.9.6.3.\n",
      "300\n",
      "出入口 2.1.15. 出入口 2.1.15.1.\n",
      " 门牌信息 2.9.5. 门牌信息 2.9.2.5.\n",
      " 门牌信息 2.9.5. 门牌信息 2.9.5.3.\n",
      "400\n",
      "飞机场 2.1.7. 飞机场 2.1.7.1.\n",
      "门牌信息 2.9.2. 楼栋号 2.9.2.1.\n",
      "门牌信息 2.9.2. 楼栋号 2.9.5.1.\n",
      "机场相关 2.1.10. 飞机场 2.1.10.5.\n",
      "汽车服务相关 2.5.1. 汽车服务相关 2.5.1.1.\n",
      "汽车服务相关 2.5.1. 汽车服务相关 2.20.7.1.\n",
      "行政地名 2.9.3. 省级地名 2.9.3.3.\n",
      "500\n",
      "普通地名 2.9.6. 村庄级地名 2.9.3.6.\n",
      "普通地名 2.9.6. 村庄级地名 2.9.6.2.\n",
      "行政地名 2.9.3. 区县级地名 2.9.3.4.\n",
      "事务所 2.12.12. 会计师事务所 2.12.3.1.\n",
      "事务所 2.12.12. 会计师事务所 2.12.12.2.\n",
      "汽车服务相关 2.5.1. 汽车服务相关 2.5.1.1.\n",
      "汽车服务相关 2.5.1. 汽车服务相关 2.20.7.1.\n",
      "600\n",
      "事务所 2.12.12. 律师事务所 2.12.3.3.\n",
      "事务所 2.12.12. 律师事务所 2.12.12.4.\n",
      "行政地名 2.9.3. 街道级地名 2.9.3.7.\n",
      "门牌信息 2.9.2. 道路门牌 2.9.2.2.\n",
      "门牌信息 2.9.2. 道路门牌 2.9.5.2.\n",
      "700\n",
      " 事务所  2.12.3. 律师事务所 2.12.3.3.\n",
      " 门牌信息 2.9.5. 楼栋号 2.9.5.1.\n",
      "800\n",
      "门牌信息 2.9.2. 门牌信息 2.9.2.5.\n",
      "门牌信息 2.9.2. 门牌信息 2.9.5.3.\n",
      "地铁站 2.1.14. 出入口 2.1.14.2.\n"
     ]
    }
   ],
   "source": [
    "taglist = tag_id_list(tag1all, tag2all, tag3all)"
   ]
  },
  {
   "cell_type": "code",
   "execution_count": 520,
   "metadata": {
    "collapsed": false
   },
   "outputs": [],
   "source": [
    "#taglist.remove('NULL')"
   ]
  },
  {
   "cell_type": "code",
   "execution_count": 633,
   "metadata": {
    "collapsed": false
   },
   "outputs": [],
   "source": [
    "freq_dic = freq(taglist)"
   ]
  },
  {
   "cell_type": "code",
   "execution_count": 653,
   "metadata": {
    "collapsed": false
   },
   "outputs": [
    {
     "name": "stdout",
     "output_type": "stream",
     "text": [
      "file saved!\n"
     ]
    },
    {
     "name": "stderr",
     "output_type": "stream",
     "text": [
      "/anaconda/lib/python2.7/site-packages/ipykernel/__main__.py:119: FutureWarning: sort(columns=....) is deprecated, use sort_values(by=.....)\n"
     ]
    }
   ],
   "source": [
    "data_freq = dic2df(freq_dic)"
   ]
  },
  {
   "cell_type": "code",
   "execution_count": 654,
   "metadata": {
    "collapsed": false
   },
   "outputs": [
    {
     "data": {
      "text/html": [
       "<div>\n",
       "<table border=\"1\" class=\"dataframe\">\n",
       "  <thead>\n",
       "    <tr style=\"text-align: right;\">\n",
       "      <th></th>\n",
       "      <th>tags</th>\n",
       "      <th>time_appears</th>\n",
       "      <th>frequency</th>\n",
       "    </tr>\n",
       "  </thead>\n",
       "  <tbody>\n",
       "    <tr>\n",
       "      <th>0</th>\n",
       "      <td>门牌信息 2.9.5.3.</td>\n",
       "      <td>2</td>\n",
       "      <td>0.22805</td>\n",
       "    </tr>\n",
       "    <tr>\n",
       "      <th>1</th>\n",
       "      <td>道路门牌 2.9.5.2.</td>\n",
       "      <td>2</td>\n",
       "      <td>0.22805</td>\n",
       "    </tr>\n",
       "    <tr>\n",
       "      <th>2</th>\n",
       "      <td>事务所 2.12.12.3.</td>\n",
       "      <td>2</td>\n",
       "      <td>0.22805</td>\n",
       "    </tr>\n",
       "    <tr>\n",
       "      <th>3</th>\n",
       "      <td>乡镇级地名 2.9.6.3.</td>\n",
       "      <td>2</td>\n",
       "      <td>0.22805</td>\n",
       "    </tr>\n",
       "    <tr>\n",
       "      <th>4</th>\n",
       "      <td>楼栋号 2.9.5.1.</td>\n",
       "      <td>2</td>\n",
       "      <td>0.22805</td>\n",
       "    </tr>\n",
       "  </tbody>\n",
       "</table>\n",
       "</div>"
      ],
      "text/plain": [
       "             tags  time_appears  frequency\n",
       "0   门牌信息 2.9.5.3.             2    0.22805\n",
       "1   道路门牌 2.9.5.2.             2    0.22805\n",
       "2  事务所 2.12.12.3.             2    0.22805\n",
       "3  乡镇级地名 2.9.6.3.             2    0.22805\n",
       "4    楼栋号 2.9.5.1.             2    0.22805"
      ]
     },
     "execution_count": 654,
     "metadata": {},
     "output_type": "execute_result"
    }
   ],
   "source": [
    "data_freq.head()"
   ]
  },
  {
   "cell_type": "code",
   "execution_count": 454,
   "metadata": {
    "collapsed": false
   },
   "outputs": [],
   "source": [
    "# name = data_freq.tags\n",
    "\n",
    "# notnull_data = data_freq\n",
    "# notnull_data.reset_index(inplace = True)\n",
    "# freq = notnull_data.frequency\n",
    "# time_appear = notnull_data.time_appears\n",
    "# freq_sum =(time_appear* freq).sum()"
   ]
  },
  {
   "cell_type": "code",
   "execution_count": 656,
   "metadata": {
    "collapsed": false
   },
   "outputs": [
    {
     "data": {
      "text/plain": [
       "0       门牌信息 2.9.5.3.\n",
       "1       道路门牌 2.9.5.2.\n",
       "2      事务所 2.12.12.3.\n",
       "3      乡镇级地名 2.9.6.3.\n",
       "4        楼栋号 2.9.5.1.\n",
       "5    汽车服务相关 2.20.7.1.\n",
       "6       博彩中心 2.4.6.4.\n",
       "7     起亚维修 2.21.32.3.\n",
       "8    电力营业厅 2.12.14.1.\n",
       "9      东北菜 2.19.3.11.\n",
       "Name: tags, dtype: object"
      ]
     },
     "execution_count": 656,
     "metadata": {},
     "output_type": "execute_result"
    }
   ],
   "source": [
    "tag_id = data_freq.tags\n",
    "tag_id[:10]"
   ]
  },
  {
   "cell_type": "code",
   "execution_count": 657,
   "metadata": {
    "collapsed": false
   },
   "outputs": [],
   "source": [
    "\n",
    "for i in range(len(tag_id)):\n",
    "    row = tag_id[i]\n",
    "    tag = row.split(' ')[0]\n",
    "    scn_id1 = row.split(' ')[1]\n",
    "    data_freq.ix[i, 'tags'] = tag\n",
    "    data_freq.ix[i, 'scn_id'] = scn_id1"
   ]
  },
  {
   "cell_type": "code",
   "execution_count": 658,
   "metadata": {
    "collapsed": false
   },
   "outputs": [
    {
     "data": {
      "text/html": [
       "<div>\n",
       "<table border=\"1\" class=\"dataframe\">\n",
       "  <thead>\n",
       "    <tr style=\"text-align: right;\">\n",
       "      <th></th>\n",
       "      <th>tags</th>\n",
       "      <th>time_appears</th>\n",
       "      <th>frequency</th>\n",
       "      <th>scn_id</th>\n",
       "    </tr>\n",
       "  </thead>\n",
       "  <tbody>\n",
       "    <tr>\n",
       "      <th>0</th>\n",
       "      <td>门牌信息</td>\n",
       "      <td>2</td>\n",
       "      <td>0.22805</td>\n",
       "      <td>2.9.5.3.</td>\n",
       "    </tr>\n",
       "    <tr>\n",
       "      <th>1</th>\n",
       "      <td>道路门牌</td>\n",
       "      <td>2</td>\n",
       "      <td>0.22805</td>\n",
       "      <td>2.9.5.2.</td>\n",
       "    </tr>\n",
       "    <tr>\n",
       "      <th>2</th>\n",
       "      <td>事务所</td>\n",
       "      <td>2</td>\n",
       "      <td>0.22805</td>\n",
       "      <td>2.12.12.3.</td>\n",
       "    </tr>\n",
       "    <tr>\n",
       "      <th>3</th>\n",
       "      <td>乡镇级地名</td>\n",
       "      <td>2</td>\n",
       "      <td>0.22805</td>\n",
       "      <td>2.9.6.3.</td>\n",
       "    </tr>\n",
       "    <tr>\n",
       "      <th>4</th>\n",
       "      <td>楼栋号</td>\n",
       "      <td>2</td>\n",
       "      <td>0.22805</td>\n",
       "      <td>2.9.5.1.</td>\n",
       "    </tr>\n",
       "  </tbody>\n",
       "</table>\n",
       "</div>"
      ],
      "text/plain": [
       "    tags  time_appears  frequency      scn_id\n",
       "0   门牌信息             2    0.22805    2.9.5.3.\n",
       "1   道路门牌             2    0.22805    2.9.5.2.\n",
       "2    事务所             2    0.22805  2.12.12.3.\n",
       "3  乡镇级地名             2    0.22805    2.9.6.3.\n",
       "4    楼栋号             2    0.22805    2.9.5.1."
      ]
     },
     "execution_count": 658,
     "metadata": {},
     "output_type": "execute_result"
    }
   ],
   "source": [
    "tag_id = data_freq.tags\n",
    "data_freq.head()"
   ]
  },
  {
   "cell_type": "code",
   "execution_count": 659,
   "metadata": {
    "collapsed": false
   },
   "outputs": [],
   "source": [
    "dic2 = {}\n",
    "not_match = []\n",
    "key_list = []\n",
    "for i in tag_id:\n",
    "    for key in dic.keys():\n",
    "        key3 = key.split(';')[2]\n",
    "        if i in key3:\n",
    "            value = dic[key]\n",
    "            dic2[i] = value\n",
    "            key_list.append(key3)\n",
    "        "
   ]
  },
  {
   "cell_type": "code",
   "execution_count": 660,
   "metadata": {
    "collapsed": false
   },
   "outputs": [
    {
     "data": {
      "text/plain": [
       "{'Pacific'}"
      ]
     },
     "execution_count": 660,
     "metadata": {},
     "output_type": "execute_result"
    }
   ],
   "source": [
    "set(tag_id) - set(key_list)"
   ]
  },
  {
   "cell_type": "code",
   "execution_count": 681,
   "metadata": {
    "collapsed": false
   },
   "outputs": [],
   "source": [
    "bb = []\n",
    "for key in dic.keys():\n",
    "    aa = key.split(';')[2]\n",
    "    bb.append(aa)\n"
   ]
  },
  {
   "cell_type": "code",
   "execution_count": 688,
   "metadata": {
    "collapsed": false
   },
   "outputs": [],
   "source": [
    "setbb = set(bb)\n",
    "for item in bb:\n",
    "    if item not in setbb:\n",
    "        print item"
   ]
  },
  {
   "cell_type": "code",
   "execution_count": 675,
   "metadata": {
    "collapsed": false
   },
   "outputs": [
    {
     "data": {
      "text/plain": [
       "862"
      ]
     },
     "execution_count": 675,
     "metadata": {},
     "output_type": "execute_result"
    }
   ],
   "source": [
    "len(set(key_list))"
   ]
  },
  {
   "cell_type": "code",
   "execution_count": 661,
   "metadata": {
    "collapsed": false
   },
   "outputs": [
    {
     "name": "stdout",
     "output_type": "stream",
     "text": [
      "餐饮服务;咖啡厅;Pacific Coffee Company 744.0\n"
     ]
    }
   ],
   "source": [
    "for key in dic.keys():\n",
    "    if 'Pacific' in key:\n",
    "        print key, dic[key]"
   ]
  },
  {
   "cell_type": "code",
   "execution_count": 662,
   "metadata": {
    "collapsed": true
   },
   "outputs": [],
   "source": [
    "frequency = data_freq.frequency"
   ]
  },
  {
   "cell_type": "code",
   "execution_count": 663,
   "metadata": {
    "collapsed": false
   },
   "outputs": [],
   "source": [
    "total_freq = 0\n",
    "for n, freq in enumerate(frequency):\n",
    "    tag = data_freq.tags[n]\n",
    "    try:    \n",
    "        value = dic2[tag]\n",
    "        total_freq = total_freq + value * freq\n",
    "    except Exception as e:\n",
    "        print e"
   ]
  },
  {
   "cell_type": "code",
   "execution_count": 664,
   "metadata": {
    "collapsed": false
   },
   "outputs": [],
   "source": [
    "for n, freq in enumerate(frequency):\n",
    "    tag = data_freq.tags[n]\n",
    "    value = dic2[tag]\n",
    "    if tag == 'Pacific':\n",
    "        value = int(744)\n",
    "    data_freq.ix[n,'time_appears'] = value * data_freq.time_appears[n]\n",
    "    data_freq.ix[n,'frequency_new2'] = 100.0*freq * value/total_freq \n",
    "    "
   ]
  },
  {
   "cell_type": "code",
   "execution_count": 665,
   "metadata": {
    "collapsed": false
   },
   "outputs": [
    {
     "data": {
      "text/html": [
       "<div>\n",
       "<table border=\"1\" class=\"dataframe\">\n",
       "  <thead>\n",
       "    <tr style=\"text-align: right;\">\n",
       "      <th></th>\n",
       "      <th>tags</th>\n",
       "      <th>time_appears</th>\n",
       "      <th>frequency</th>\n",
       "      <th>scn_id</th>\n",
       "      <th>frequency_new2</th>\n",
       "    </tr>\n",
       "  </thead>\n",
       "  <tbody>\n",
       "    <tr>\n",
       "      <th>0</th>\n",
       "      <td>门牌信息</td>\n",
       "      <td>19630.0</td>\n",
       "      <td>0.22805</td>\n",
       "      <td>2.9.5.3.</td>\n",
       "      <td>0.034585</td>\n",
       "    </tr>\n",
       "    <tr>\n",
       "      <th>1</th>\n",
       "      <td>道路门牌</td>\n",
       "      <td>35308.0</td>\n",
       "      <td>0.22805</td>\n",
       "      <td>2.9.5.2.</td>\n",
       "      <td>0.062207</td>\n",
       "    </tr>\n",
       "    <tr>\n",
       "      <th>2</th>\n",
       "      <td>事务所</td>\n",
       "      <td>14.0</td>\n",
       "      <td>0.22805</td>\n",
       "      <td>2.12.12.3.</td>\n",
       "      <td>0.000025</td>\n",
       "    </tr>\n",
       "    <tr>\n",
       "      <th>3</th>\n",
       "      <td>乡镇级地名</td>\n",
       "      <td>85652.0</td>\n",
       "      <td>0.22805</td>\n",
       "      <td>2.9.6.3.</td>\n",
       "      <td>0.150904</td>\n",
       "    </tr>\n",
       "    <tr>\n",
       "      <th>4</th>\n",
       "      <td>楼栋号</td>\n",
       "      <td>395736.0</td>\n",
       "      <td>0.22805</td>\n",
       "      <td>2.9.5.1.</td>\n",
       "      <td>0.697218</td>\n",
       "    </tr>\n",
       "  </tbody>\n",
       "</table>\n",
       "</div>"
      ],
      "text/plain": [
       "    tags  time_appears  frequency      scn_id  frequency_new2\n",
       "0   门牌信息       19630.0    0.22805    2.9.5.3.        0.034585\n",
       "1   道路门牌       35308.0    0.22805    2.9.5.2.        0.062207\n",
       "2    事务所          14.0    0.22805  2.12.12.3.        0.000025\n",
       "3  乡镇级地名       85652.0    0.22805    2.9.6.3.        0.150904\n",
       "4    楼栋号      395736.0    0.22805    2.9.5.1.        0.697218"
      ]
     },
     "execution_count": 665,
     "metadata": {},
     "output_type": "execute_result"
    }
   ],
   "source": [
    "data_freq.head()"
   ]
  },
  {
   "cell_type": "code",
   "execution_count": 666,
   "metadata": {
    "collapsed": false
   },
   "outputs": [],
   "source": [
    "data_freq = data_freq.drop(['frequency'],axis = 1)"
   ]
  },
  {
   "cell_type": "code",
   "execution_count": 667,
   "metadata": {
    "collapsed": false
   },
   "outputs": [
    {
     "data": {
      "text/html": [
       "<div>\n",
       "<table border=\"1\" class=\"dataframe\">\n",
       "  <thead>\n",
       "    <tr style=\"text-align: right;\">\n",
       "      <th></th>\n",
       "      <th>tags</th>\n",
       "      <th>time_appears</th>\n",
       "      <th>scn_id</th>\n",
       "      <th>frequency_new2</th>\n",
       "    </tr>\n",
       "  </thead>\n",
       "  <tbody>\n",
       "    <tr>\n",
       "      <th>0</th>\n",
       "      <td>门牌信息</td>\n",
       "      <td>19630.0</td>\n",
       "      <td>2.9.5.3.</td>\n",
       "      <td>0.034585</td>\n",
       "    </tr>\n",
       "    <tr>\n",
       "      <th>1</th>\n",
       "      <td>道路门牌</td>\n",
       "      <td>35308.0</td>\n",
       "      <td>2.9.5.2.</td>\n",
       "      <td>0.062207</td>\n",
       "    </tr>\n",
       "    <tr>\n",
       "      <th>2</th>\n",
       "      <td>事务所</td>\n",
       "      <td>14.0</td>\n",
       "      <td>2.12.12.3.</td>\n",
       "      <td>0.000025</td>\n",
       "    </tr>\n",
       "    <tr>\n",
       "      <th>3</th>\n",
       "      <td>乡镇级地名</td>\n",
       "      <td>85652.0</td>\n",
       "      <td>2.9.6.3.</td>\n",
       "      <td>0.150904</td>\n",
       "    </tr>\n",
       "    <tr>\n",
       "      <th>4</th>\n",
       "      <td>楼栋号</td>\n",
       "      <td>395736.0</td>\n",
       "      <td>2.9.5.1.</td>\n",
       "      <td>0.697218</td>\n",
       "    </tr>\n",
       "  </tbody>\n",
       "</table>\n",
       "</div>"
      ],
      "text/plain": [
       "    tags  time_appears      scn_id  frequency_new2\n",
       "0   门牌信息       19630.0    2.9.5.3.        0.034585\n",
       "1   道路门牌       35308.0    2.9.5.2.        0.062207\n",
       "2    事务所          14.0  2.12.12.3.        0.000025\n",
       "3  乡镇级地名       85652.0    2.9.6.3.        0.150904\n",
       "4    楼栋号      395736.0    2.9.5.1.        0.697218"
      ]
     },
     "execution_count": 667,
     "metadata": {},
     "output_type": "execute_result"
    }
   ],
   "source": [
    "data_freq.head()"
   ]
  },
  {
   "cell_type": "code",
   "execution_count": 668,
   "metadata": {
    "collapsed": false
   },
   "outputs": [],
   "source": [
    "data_freq.columns = ['tags','time_appears','scn_id','frequency%']"
   ]
  },
  {
   "cell_type": "code",
   "execution_count": 669,
   "metadata": {
    "collapsed": false
   },
   "outputs": [
    {
     "name": "stderr",
     "output_type": "stream",
     "text": [
      "/anaconda/lib/python2.7/site-packages/ipykernel/__main__.py:1: FutureWarning: sort(columns=....) is deprecated, use sort_values(by=.....)\n",
      "  if __name__ == '__main__':\n"
     ]
    }
   ],
   "source": [
    "data_freq.sort('time_appears', ascending =False,inplace = True)\n",
    "#data_freq.to_csv('wholedata.csv')"
   ]
  },
  {
   "cell_type": "code",
   "execution_count": 670,
   "metadata": {
    "collapsed": false
   },
   "outputs": [],
   "source": [
    "data_freq.reset_index(drop = True, inplace = True)"
   ]
  },
  {
   "cell_type": "code",
   "execution_count": 672,
   "metadata": {
    "collapsed": false
   },
   "outputs": [],
   "source": [
    "#data_freq.to_csv('wholedata.csv')"
   ]
  },
  {
   "cell_type": "code",
   "execution_count": 671,
   "metadata": {
    "collapsed": false
   },
   "outputs": [
    {
     "data": {
      "text/plain": [
       "56759323.0"
      ]
     },
     "execution_count": 671,
     "metadata": {},
     "output_type": "execute_result"
    }
   ],
   "source": [
    "data_freq.time_appears.sum()"
   ]
  },
  {
   "cell_type": "code",
   "execution_count": null,
   "metadata": {
    "collapsed": true
   },
   "outputs": [],
   "source": []
  }
 ],
 "metadata": {
  "kernelspec": {
   "display_name": "Python 2",
   "language": "python",
   "name": "python2"
  },
  "language_info": {
   "codemirror_mode": {
    "name": "ipython",
    "version": 2
   },
   "file_extension": ".py",
   "mimetype": "text/x-python",
   "name": "python",
   "nbconvert_exporter": "python",
   "pygments_lexer": "ipython2",
   "version": "2.7.13"
  }
 },
 "nbformat": 4,
 "nbformat_minor": 2
}
