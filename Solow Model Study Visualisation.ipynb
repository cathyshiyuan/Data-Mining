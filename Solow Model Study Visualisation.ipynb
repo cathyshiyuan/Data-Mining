{
 "cells": [
  {
   "cell_type": "markdown",
   "metadata": {},
   "source": [
    "# Graphs\n",
    "## Solow Model Study\n",
    "### Powered by:\n",
    "> Madison's Database    http://www.ggdc.net/maddison/maddison-project/home.htm"
   ]
  },
  {
   "cell_type": "code",
   "execution_count": 84,
   "metadata": {
    "collapsed": false
   },
   "outputs": [
    {
     "data": {
      "text/html": [
       "<iframe id=\"igraph\" scrolling=\"no\" style=\"border:none;\" seamless=\"seamless\" src=\"https://plot.ly/~cathydai/48.embed\" height=\"525px\" width=\"100%\"></iframe>"
      ],
      "text/plain": [
       "<plotly.tools.PlotlyDisplay object>"
      ]
     },
     "execution_count": 84,
     "metadata": {},
     "output_type": "execute_result"
    }
   ],
   "source": [
    "GDP_rich_1870()\n",
    "py.iplot(fig1)"
   ]
  },
  {
   "cell_type": "markdown",
   "metadata": {},
   "source": [
    "Some selected countries did have convergence before 1990, but diverged since then.\n",
    "\n",
    "Explain:\n",
    "1. Some random shock could have large effect: breakout point.\n",
    "2. Seperate into two growth stages. \n",
    ">Fisrst stage: Increase'k'; Intermediate stage: 'k' and 'A' mixed; Second stage: Increase 'A';\n",
    "\n",
    "\n",
    "\n",
    "\n"
   ]
  },
  {
   "cell_type": "code",
   "execution_count": 106,
   "metadata": {
    "collapsed": false
   },
   "outputs": [
    {
     "data": {
      "text/html": [
       "<iframe id=\"igraph\" scrolling=\"no\" style=\"border:none;\" seamless=\"seamless\" src=\"https://plot.ly/~cathydai/80.embed\" height=\"525px\" width=\"100%\"></iframe>"
      ],
      "text/plain": [
       "<plotly.tools.PlotlyDisplay object>"
      ]
     },
     "execution_count": 106,
     "metadata": {},
     "output_type": "execute_result"
    }
   ],
   "source": [
    "asian_four()\n",
    "py.iplot(fig2)"
   ]
  },
  {
   "cell_type": "markdown",
   "metadata": {},
   "source": [
    "Aisa Growth Miracle:\n",
    "\n",
    ">Singapore: Good policy and stable government\n",
    ">Hongkong: Good timing\n",
    "\n",
    "\n",
    ">1. They are fast industrialized between the early 1960s and 1990s countries. ('A' improved)\n",
    "\n",
    ">2. All four Asian Tigers have a highly educated and productive work force compared to others in the region.('A' improved)\n",
    "\n",
    ">3. The United States helped during the Cold War.(random shock)\n",
    "\n",
    ">4. They export a lot, because there were rich countries ahead, which have large demand.\n",
    "\n",
    ">5. People were not very free in the early years, easy to implement policy and they are all small regions\n",
    "\n"
   ]
  },
  {
   "cell_type": "code",
   "execution_count": 35,
   "metadata": {
    "collapsed": false
   },
   "outputs": [
    {
     "data": {
      "text/html": [
       "<iframe id=\"igraph\" scrolling=\"no\" style=\"border:none;\" seamless=\"seamless\" src=\"https://plot.ly/~cathydai/24.embed\" height=\"525px\" width=\"100%\"></iframe>"
      ],
      "text/plain": [
       "<plotly.tools.PlotlyDisplay object>"
      ]
     },
     "execution_count": 35,
     "metadata": {},
     "output_type": "execute_result"
    }
   ],
   "source": [
    "plot_education()\n",
    "py.iplot(fig)"
   ]
  },
  {
   "cell_type": "code",
   "execution_count": 214,
   "metadata": {
    "collapsed": false,
    "scrolled": false
   },
   "outputs": [
    {
     "data": {
      "text/html": [
       "<iframe id=\"igraph\" scrolling=\"no\" style=\"border:none;\" seamless=\"seamless\" src=\"https://plot.ly/~cathydai/102.embed\" height=\"525px\" width=\"100%\"></iframe>"
      ],
      "text/plain": [
       "<plotly.tools.PlotlyDisplay object>"
      ]
     },
     "execution_count": 214,
     "metadata": {},
     "output_type": "execute_result"
    }
   ],
   "source": [
    "gdp_growth()\n",
    "py.iplot(fig3)\n",
    "py.iplot(fig4)"
   ]
  },
  {
   "cell_type": "markdown",
   "metadata": {},
   "source": [
    "When we say convergence, we'd better divided countries into 4 categories:\n",
    ">1. rich and developed countries\n",
    ">2. countries used to be rich\n",
    ">3. poor countries\n",
    ">4. outliers\n",
    "\n",
    "Pattern of economic growth:\n",
    ">1. Strong regional connection\n",
    "\n",
    ">2. Tied to nature resources\n",
    "\n",
    ">3. Within each categories, there is convergence\n",
    "\n",
    ">4. Have a breakout point, once lower than the point, the relationship can be opposite"
   ]
  },
  {
   "cell_type": "markdown",
   "metadata": {},
   "source": [
    "(don't forget to see correlation matrix)"
   ]
  },
  {
   "cell_type": "code",
   "execution_count": 252,
   "metadata": {
    "collapsed": false
   },
   "outputs": [
    {
     "name": "stderr",
     "output_type": "stream",
     "text": [
      "/anaconda/lib/python2.7/site-packages/ipykernel/__main__.py:7: FutureWarning:\n",
      "\n",
      "reshape is deprecated and will raise in a subsequent release. Please use .values.reshape(...) instead\n",
      "\n"
     ]
    },
    {
     "data": {
      "image/png": "[encoded data removed]",
      "text/plain": [
       "<matplotlib.figure.Figure at 0x10fd17910>"
      ]
     },
     "metadata": {},
     "output_type": "display_data"
    }
   ],
   "source": [
    "log_gdp()"
   ]
  },
  {
   "cell_type": "markdown",
   "metadata": {},
   "source": [
    "Some prediction: (exclude random shock)\n",
    "\n",
    "Sad but true\n",
    ">1. rich countries will countinue to be rich and growth at a fast rate\n",
    ">2. poor countries can never catch up, unless the technology can fully penetrate(very hard)\n",
    ">3. the growth rate is not slowing down in rich countries, can be even faster in the future\n",
    "\n"
   ]
  },
  {
   "cell_type": "code",
   "execution_count": null,
   "metadata": {
    "collapsed": true
   },
   "outputs": [],
   "source": []
  },
  {
   "cell_type": "code",
   "execution_count": null,
   "metadata": {
    "collapsed": true
   },
   "outputs": [],
   "source": []
  },
  {
   "cell_type": "code",
   "execution_count": null,
   "metadata": {
    "collapsed": true
   },
   "outputs": [],
   "source": []
  },
  {
   "cell_type": "code",
   "execution_count": null,
   "metadata": {
    "collapsed": true
   },
   "outputs": [],
   "source": []
  },
  {
   "cell_type": "markdown",
   "metadata": {},
   "source": [
    "# Script\n",
    "#### All rights reserved by Dai Shiyuan"
   ]
  },
  {
   "cell_type": "code",
   "execution_count": null,
   "metadata": {
    "collapsed": true
   },
   "outputs": [],
   "source": [
    "import numpy as np\n",
    "import pandas as pd\n",
    "import sklearn\n",
    "import matplotlib.pyplot as plt\n",
    "from sklearn.linear_model import LinearRegression\n",
    "from scipy.interpolate import spline\n",
    "import plotly.plotly as py\n",
    "import plotly.tools as tls\n",
    "import pprint\n",
    "import plotly.graph_objs as go\n",
    "tls.set_credentials_file(username='cathydai', api_key='gnEOtHlx1QHsOJlr11Qt')\n",
    "plt.style.use('ggplot')\n",
    "\n",
    "def read_data():\n",
    "    GDP_1952 = pd.read_csv('1952GDP.csv')\n",
    "    gdp = pd.read_excel('mpd_2013-01.xlsx')\n",
    "    edu = pd.read_csv('World education rankings.csv')\n",
    "    edu['mean'] = edu.mean(axis = 1)\n",
    "    return edu, GDP_1952, gdp\n",
    "\n",
    "def plot_education():\n",
    "    math = edu['On the mathematics scale']\n",
    "    sci = edu['On the science scale']\n",
    "    #print math[:5]\n",
    "    \n",
    "    label = edu['Country Name']\n",
    "    #print label[:5]\n",
    "    trace = go.Scatter(\n",
    "        x = math,\n",
    "        y = sci,\n",
    "        mode = 'markers',\n",
    "        text = label\n",
    "    )\n",
    "    layout= go.Layout(\n",
    "        title= 'World Education Level',\n",
    "        hovermode= 'closest',\n",
    "        xaxis= dict(\n",
    "            title= 'Math',\n",
    "            ticklen= 5,\n",
    "            zeroline= False,\n",
    "            gridwidth= 2,\n",
    "        ),\n",
    "        yaxis=dict(\n",
    "            title= 'Science',\n",
    "            ticklen= 5,\n",
    "            gridwidth= 2,\n",
    "        ),\n",
    "        showlegend= False\n",
    "    )\n",
    "\n",
    "    data = [trace]\n",
    "    fig = dict(data=data, layout=layout)\n",
    "#py.iplot(fig)\n",
    "edu = read_data()[0]\n",
    "GDP_1952 = read_data()[1]\n",
    "gdp = read_data()[2]\n",
    "plot_education()\n",
    "\n",
    "def GDP_rich_1870():\n",
    "    choose = ['Austria','England/GB/UK','USA','Holland/Netherlands','Japan','(Centre-North)Italy']\n",
    "    gdp.columns = gdp.columns.str.replace(' ','')\n",
    "    col_names = gdp.columns.tolist()\n",
    "    rich = gdp.ix[1870:,choose]\n",
    "    sub = range(0,len(rich.index)-1,10)\n",
    "\n",
    "    trace = []\n",
    "    for i in choose:\n",
    "        trace_ = go.Scatter(\n",
    "            x = rich.index,\n",
    "            y = rich[i],\n",
    "            mode = 'lines',\n",
    "            name = i\n",
    "        )\n",
    "        trace.append(trace_)\n",
    "    layout= go.Layout(\n",
    "            title= 'GDP in rich countries from 1870-2010',\n",
    "            hovermode= 'closest',\n",
    "            xaxis= dict(\n",
    "                title= 'Year',\n",
    "                ticklen= 5,\n",
    "                zeroline= False,\n",
    "                gridwidth= 2,\n",
    "            ),\n",
    "            yaxis=dict(\n",
    "                title= 'GDP',\n",
    "                ticklen= 5,\n",
    "                gridwidth= 2,\n",
    "            ),\n",
    "            showlegend= False\n",
    "        )\n",
    "    data = [trace]\n",
    "    fig1 = dict(data=data, layout=layout)\n",
    "\n",
    "GDP_1952 = pd.read_csv('1952GDP.csv')\n",
    "GDP_1952.columns = GDP_1952.columns.str.replace('Unnamed: 0','year')\n",
    "GDP_1952.set_index('year', inplace = True)\n",
    "dropcols = ['Unnamed: 151','Unnamed: 152','Unnamed: 153','Unnamed: 154','Unnamed: 155']\n",
    "GDP_1952.drop(dropcols, axis = 1, inplace = True)\n",
    "x = GDP_1952.index.astype(int)\n",
    "GDP_1952.columns = GDP_1952.columns.str.replace(' ','')\n",
    "col_names = GDP_1952.columns.tolist()\n",
    "\n",
    "growth_df = pd.read_csv('gdp_growth.csv', index_col = 0)\n",
    "data = pd.DataFrame()\n",
    "data['growth'] =  growth_df.mean()\n",
    "data['gdp']= GDP_1952.mean()\n",
    "data['log_gdp']= np.log(GDP_1952.mean())\n",
    "datat = data.T\n",
    "    \n",
    "for name in col_names:\n",
    "    try:\n",
    "        GDP_1952[name] = GDP_1952[name].str.replace(',','').astype(float)\n",
    "    except Exception as e:\n",
    "        pass\n",
    "\n",
    "def asian_four():\n",
    "        #pass\n",
    "    asia_four = ['Taiwan','Singapore','HongKong','S.Korea','USA']\n",
    "\n",
    "    trace = []\n",
    "    for i in asia_four:\n",
    "        trace_ = go.Scatter(\n",
    "            x = x,\n",
    "            y = GDP_1952[i],\n",
    "            mode = 'lines',\n",
    "            name = i\n",
    "            )\n",
    "        trace.append(trace_)\n",
    "\n",
    "    layout1= go.Layout(\n",
    "        title= 'GDP in Four Asian Tigers from 1952-2010',\n",
    "        hovermode= 'closest',\n",
    "        xaxis= dict(\n",
    "            title= 'Year',\n",
    "            ticklen= 5,\n",
    "            zeroline= False,\n",
    "            gridwidth= 2,\n",
    "            ),\n",
    "        yaxis=dict(\n",
    "            title= 'GDP',\n",
    "            ticklen= 5,\n",
    "            gridwidth= 2,\n",
    "            ),\n",
    "        showlegend= False\n",
    "        )\n",
    "            #data = [trace]\n",
    "    fig2 = dict(data=trace,layout=layout1)\n",
    "    py.iplot(fig2)\n",
    "\n",
    "\n",
    "def log_gdp():\n",
    "    regr = LinearRegression()\n",
    "\n",
    "    mean_growth = growth_df.mean()\n",
    "    log_gdp = np.log(GDP_1952.mean())\n",
    "\n",
    "    regr.fit(log_gdp.reshape(149,1), mean_growth.reshape(149,1))\n",
    "    #print log_gdp.values.shape,mean_growth.values.shape\n",
    "    coef = regr.coef_\n",
    "    intecept = regr.intercept_\n",
    "    x = np.arange(6,11).reshape(5,1)\n",
    "    y = coef * x + intecept\n",
    "    plt.title('GDP Growth Rate VS Log GDP',color = '#363e3f')\n",
    "    plt.xlabel('Log GDP',color = '#363e3f')\n",
    "    plt.ylabel('GDP Growth',color = '#363e3f')\n",
    "    plt.plot(x,y,color = '#502369', linewidth = 3)\n",
    "    plt.scatter(log_gdp, mean_growth, color = '#363e3f', alpha = 0.5)\n",
    "    plt.show()\n",
    "\n",
    "# for plot correlation matrix\n",
    "# -*- coding: utf-8 -*-\n",
    "import numpy as np\n",
    "import pandas as pd\n",
    "import matplotlib.pyplot as plt\n",
    "import sys\n",
    "#import pickle\n",
    "\n",
    "reload(sys)\n",
    "sys.setdefaultencoding('utf-8')\n",
    "corr_matrix = pd.read_csv('growth_correlation.csv', index_col = 0)\n",
    "data1 = corr_matrix.values  # turn into an array matix\n",
    "fig1 = plt.figure()\n",
    "ax1 = fig1.add_subplot(111)\n",
    "heatmap = ax1.pcolor(data1, cmap=plt.cm.RdYlGn)\n",
    "fig1.colorbar(heatmap)\n",
    "ax1.set_xticks(np.arange(data1.shape[1]) + 0.5, minor=False)\n",
    "ax1.set_yticks(np.arange(data1.shape[0]) + 0.5, minor=False)\n",
    "ax1.invert_yaxis()\n",
    "ax1.xaxis.tick_top()\n",
    "column_labels = corr_matrix.columns\n",
    "#row_labels = corr_matrix.index\n",
    "ax1.set_xticklabels(column_labels)\n",
    "ax1.set_yticklabels(column_labels)\n",
    "\n",
    "plt.xticks(rotation=90)\n",
    "heatmap.set_clim(-1,1)\n",
    "plt.tight_layout()\n",
    "#plt.savefig(\"correlations.png\")\n",
    "#pickle.dump(ax1, file('gdp_corr.pickle', 'w'))\n",
    "plt.show()\n",
    "#ax1 = pickle.load(file('gdp_corr.pickle'))\n",
    "#plt.show()\n",
    "\n",
    "\n",
    "def gdp_growth():\n",
    "    \n",
    "    traces = []\n",
    "    traces2 = []\n",
    "    for i in datat.columns:\n",
    "        trace = go.Scatter(\n",
    "                    x = datat.ix['gdp',i],\n",
    "                    y = datat.ix['growth',i],\n",
    "                    mode = 'markers',\n",
    "            marker= dict(size= 14,\n",
    "                        #line= dict(width=1),\n",
    "                        color= 'k', #502369\n",
    "                        opacity= 0.5 \n",
    "                       ),\n",
    "                    name = i\n",
    "            )\n",
    "        traces.append(trace)\n",
    "        trace2 = go.Scatter(\n",
    "                    x = datat.ix['gdp',i],\n",
    "                    y = datat.ix['log_gdp',i],\n",
    "                    mode = 'markers',\n",
    "            marker= dict(size= 14,\n",
    "                        #line= dict(width=1),\n",
    "                        color= '#105f69',\n",
    "                        opacity= 0.5\n",
    "                       ),\n",
    "                    name = i\n",
    "            )\n",
    "        traces2.append(trace2)\n",
    "    layout= go.Layout(\n",
    "        title= 'Mean GDP growth vs Mean GDP',\n",
    "        hovermode= 'closest',\n",
    "        xaxis= dict(\n",
    "            title= 'Mean GDP',\n",
    "            ticklen= 5,\n",
    "            zeroline= False,\n",
    "            gridwidth= 2,\n",
    "        ),\n",
    "        yaxis=dict(\n",
    "            title= 'GDP Growth Rate',\n",
    "            ticklen= 5,\n",
    "            gridwidth= 2,\n",
    "        ),\n",
    "        showlegend= False\n",
    "    )\n",
    "    fig3 =dict(data=traces, layout = layout )\n",
    "    fig4 =dict(data=traces2, layout = layout )\n"
   ]
  }
 ],
 "metadata": {
  "kernelspec": {
   "display_name": "Python 2",
   "language": "python",
   "name": "python2"
  },
  "language_info": {
   "codemirror_mode": {
    "name": "ipython",
    "version": 2
   },
   "file_extension": ".py",
   "mimetype": "text/x-python",
   "name": "python",
   "nbconvert_exporter": "python",
   "pygments_lexer": "ipython2",
   "version": "2.7.13"
  }
 },
 "nbformat": 4,
 "nbformat_minor": 2
}
